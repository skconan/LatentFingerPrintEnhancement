{
 "cells": [
  {
   "cell_type": "code",
   "execution_count": null,
   "metadata": {},
   "outputs": [
    {
     "data": {
      "text/plain": [
       "<matplotlib.image.AxesImage at 0x1fb13a37780>"
      ]
     },
     "execution_count": 36,
     "metadata": {},
     "output_type": "execute_result"
    }
   ],
   "source": [
    "import numpy as np\n",
    "import cv2 as cv\n",
    "from matplotlib import pyplot as plt\n",
    "\n",
    "import sys\n",
    "sys.path.insert(1, 'E:\\KSIP\\LatentFingerPrintEnhancement\\source')\n",
    "\n",
    "from utilities import *\n",
    "from fft import *\n",
    "import math\n",
    "\n",
    "img = cv.imread(r\"E:\\KSIP\\Database\\NIST14_Binary\\F0000002.jpg\",0)\n",
    "img = cv.blur(img,(3,3))\n",
    "rows, cols = img.shape\n",
    "\n",
    "plt.figure(figsize = (15,15))\n",
    "plt.imshow(img,cmap='gray')\n"
   ]
  },
  {
   "cell_type": "code",
   "execution_count": 34,
   "metadata": {},
   "outputs": [
    {
     "data": {
      "text/plain": [
       "<matplotlib.image.AxesImage at 0x1fb1449be80>"
      ]
     },
     "execution_count": 34,
     "metadata": {},
     "output_type": "execute_result"
    },
    {
     "data": {
      "image/png": "[encoded data removed]",
      "text/plain": [
       "<Figure size 720x720 with 1 Axes>"
      ]
     },
     "metadata": {
      "needs_background": "light"
     },
     "output_type": "display_data"
    }
   ],
   "source": [
    "result_ff = np.ones((rows,cols),np.uint8)*255\n",
    "result_of = np.ones((rows,cols),np.uint8)*255\n",
    "\n",
    "kernel = 64\n",
    "step = 16\n",
    "# kernel = 32\n",
    "# step = 8\n",
    "\n",
    "cir1 = np.zeros((kernel,kernel),np.uint8)\n",
    "cir2 = np.zeros((kernel,kernel),np.uint8)\n",
    "\n",
    "cv.circle(cir1,(kernel//2,kernel//2),3,(255,255,255),-1)\n",
    "cv.circle(cir2,(kernel//2,kernel//2),9,(255,255,255),-1)\n",
    "\n",
    "bandpass = cir2 - cir1\n",
    "plt.figure(figsize = (10,10))\n",
    "plt.imshow(bandpass,cmap='gray')\n",
    "\n"
   ]
  },
  {
   "cell_type": "code",
   "execution_count": 22,
   "metadata": {},
   "outputs": [
    {
     "name": "stderr",
     "output_type": "stream",
     "text": [
      "E:\\KSIP\\LatentFingerPrintEnhancement\\source\\utilities.py:58: RuntimeWarning: invalid value encountered in true_divide\n",
      "  result = 255.*(image - image.min())/(image.max()-image.min())\n"
     ]
    }
   ],
   "source": [
    "for r in range(kernel//2,rows-kernel//2,step):\n",
    "    for c in range(kernel//2,cols-kernel//2,step):\n",
    "        roi = img[r-kernel//2:r+kernel//2, c-kernel//2:c+kernel//2].copy()\n",
    "        spectrum = spatial2freq(roi)\n",
    "        magnitude = get_magnitude(spectrum)\n",
    "\n",
    "        # zero mean - In OpenCV, DC is maximum value of image\n",
    "        magnitude = magnitude - magnitude.max()\n",
    "        magnitude = np.abs(magnitude)\n",
    "        magnitude[kernel//2,kernel//2] = magnitude.max()\n",
    "        \n",
    "        # Invert peak to maximum value        \n",
    "        magnitude = 255-normalize(magnitude)\n",
    "        y,x = np.where(magnitude==magnitude.max())\n",
    "        \n",
    "        # Bandpass Filter   \n",
    "        magnitude = cv.bitwise_and(magnitude,magnitude,mask=bandpass)\n",
    "        \n",
    "        \n",
    "        # Find two peaks of spectrum magnitude         \n",
    "        if len(x) >= 2:\n",
    "#             print(\"point max\",x,y)\n",
    "            \n",
    "\n",
    "            p1 = x[0],y[0]\n",
    "            p2 = x[1],y[1]\n",
    "\n",
    "            # Estimate Frequency \n",
    "            freq1 = np.sqrt((p1[0]-kernel//2)**2+(p1[1]-kernel//2)**2)\n",
    "            freq2 = np.sqrt((p2[0]-kernel//2)**2+(p2[1]-kernel//2)**2)\n",
    "            freq = np.mean([freq1,freq2])\n",
    "            \n",
    "            # Create Frequency Field\n",
    "            result_ff[r-step//2:r+step//2, c-step//2:c+step//2] = int(255*freq/64.)\n",
    "\n",
    "#             print(\"frequency\",freq)\n",
    "          \n",
    "            # Estimate Orientation\n",
    "            angle = np.arctan2(-(p1[1]-p2[1]),p1[0]-p2[0]) \n",
    "            \n",
    "#             print(\"original angle\",angle,np.rad2deg(angle))\n",
    "\n",
    "            # shift orientation +90 degrees \n",
    "            angle += np.pi/2\n",
    "            \n",
    "            # angle greater than pi\n",
    "            if angle > np.pi:   \n",
    "                angle = -2*np.pi + angle  \n",
    "          \n",
    "            # print(\"angle\",np.rad2deg(angle))\n",
    "\n",
    "\n",
    "            # Calculate Quadrant\n",
    "            if -np.pi/2 <= angle <= np.pi/2:\n",
    "                x_sign = 1\n",
    "            else:\n",
    "                x_sign = -1\n",
    "            \n",
    "            if -np.pi <= angle <= 0:\n",
    "                y_sign = 1\n",
    "            else:\n",
    "                y_sign = -1\n",
    "\n",
    "            \n",
    "            # Create Orientation Field             \n",
    "            x1,y1 = c,r\n",
    "\n",
    "            x2 = x1 + x_sign * step / 2 * abs(np.cos(angle))\n",
    "            y2 = y1 + y_sign * step/2*abs(np.sin(angle))\n",
    "            \n",
    "            x2,y2 = int(math.ceil(x2)),int(math.ceil(y2))\n",
    "            x1,y1 = int(math.ceil(x1)),int(math.ceil(y1))\n",
    "\n",
    "            cv.line(result_of,(x1,y1),(x2,y2),(0,0,255),1)"
   ]
  },
  {
   "cell_type": "code",
   "execution_count": 23,
   "metadata": {},
   "outputs": [
    {
     "data": {
      "text/plain": [
       "True"
      ]
     },
     "execution_count": 23,
     "metadata": {},
     "output_type": "execute_result"
    }
   ],
   "source": [
    "cv.imwrite(\"./of.jpg\",result_of)\n",
    "cv.imwrite(\"./ff.jpg\",result_ff)"
   ]
  },
  {
   "cell_type": "code",
   "execution_count": 33,
   "metadata": {},
   "outputs": [
    {
     "data": {
      "text/plain": [
       "<matplotlib.image.AxesImage at 0x1fb14300518>"
      ]
     },
     "execution_count": 33,
     "metadata": {},
     "output_type": "execute_result"
    },
    {
     "data": {
      "image/png": "[encoded data removed]",
      "text/plain": [
       "<Figure size 1080x1080 with 1 Axes>"
      ]
     },
     "metadata": {
      "needs_background": "light"
     },
     "output_type": "display_data"
    }
   ],
   "source": [
    "plt.figure(figsize = (15,15))\n",
    "plt.imshow(result_of)"
   ]
  },
  {
   "cell_type": "code",
   "execution_count": 31,
   "metadata": {},
   "outputs": [
    {
     "data": {
      "text/plain": [
       "<matplotlib.image.AxesImage at 0x1fb1411eac8>"
      ]
     },
     "execution_count": 31,
     "metadata": {},
     "output_type": "execute_result"
    },
    {
     "data": {
      "image/png": "[encoded data removed]",
      "text/plain": [
       "<Figure size 720x720 with 1 Axes>"
      ]
     },
     "metadata": {
      "needs_background": "light"
     },
     "output_type": "display_data"
    }
   ],
   "source": [
    "plt.figure(figsize = (10,10))\n",
    "plt.imshow(result_ff)"
   ]
  }
 ],
 "metadata": {
  "kernelspec": {
   "display_name": "Python 3",
   "language": "python",
   "name": "python3"
  },
  "language_info": {
   "codemirror_mode": {
    "name": "ipython",
    "version": 3
   },
   "file_extension": ".py",
   "mimetype": "text/x-python",
   "name": "python",
   "nbconvert_exporter": "python",
   "pygments_lexer": "ipython3",
   "version": "3.7.3"
  }
 },
 "nbformat": 4,
 "nbformat_minor": 2
}
